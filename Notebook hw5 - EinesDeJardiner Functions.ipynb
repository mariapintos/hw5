{
 "cells": [
  {
   "cell_type": "code",
   "execution_count": 5,
   "id": "7d24d70f",
   "metadata": {},
   "outputs": [],
   "source": [
    "import sys\n",
    "sys.path.append('/Users/mariapintosrelat/Desktop/Data_Science_DSDM/Computing_for_Data_Science/homework5/hw5/Library_Hw5/src')"
   ]
  },
  {
   "cell_type": "code",
   "execution_count": 18,
   "id": "f4c0b625",
   "metadata": {},
   "outputs": [],
   "source": [
    "from EinesDeJardiner.Data_Processing import * "
   ]
  },
  {
   "cell_type": "code",
   "execution_count": 19,
   "id": "305e81b3",
   "metadata": {},
   "outputs": [],
   "source": [
    "from EinesDeJardiner.Model import *"
   ]
  },
  {
   "cell_type": "code",
   "execution_count": 20,
   "id": "186b8119",
   "metadata": {},
   "outputs": [],
   "source": [
    "from EinesDeJardiner.Dummy_Creation import *"
   ]
  },
  {
   "cell_type": "code",
   "execution_count": 9,
   "id": "a02d411d",
   "metadata": {},
   "outputs": [],
   "source": [
    "import pandas as pd\n",
    "from sklearn.ensemble import RandomForestClassifier\n",
    "from sklearn.model_selection import train_test_split\n",
    "from sklearn.metrics import roc_auc_score"
   ]
  },
  {
   "cell_type": "code",
   "execution_count": 10,
   "id": "a912c938",
   "metadata": {},
   "outputs": [],
   "source": [
    "# Load the data\n",
    "df = pd.read_csv('/Users/mariapintosrelat/Desktop/Data_Science_DSDM/Computing_for_Data_Science/homework5/sample_diabetes_mellitus_data - sample_diabetes_mellitus_data.csv')"
   ]
  },
  {
   "cell_type": "code",
   "execution_count": 11,
   "id": "e5060737",
   "metadata": {},
   "outputs": [],
   "source": [
    "# Defining the target and the features for the split\n",
    "target = \"diabetes_mellitus\"\n",
    "features = ['age', 'height', 'weight', 'aids', 'cirrhosis', 'hepatic_failure',\n",
    "            'immunosuppression', 'leukemia', 'lymphoma',\n",
    "            'solid_tumor_with_metastasis']\n",
    "SEED = 0"
   ]
  },
  {
   "cell_type": "code",
   "execution_count": 21,
   "id": "978ef8be",
   "metadata": {},
   "outputs": [],
   "source": [
    "# Remove those rows that contain NaN values in the columns: age, gender, ethnicity.\n",
    "list_of_columns_to_clear = [\"gender\", \"age\", \"ethnicity\"]\n",
    "df = clearNA_from_column(df, list_of_columns_to_clear)"
   ]
  },
  {
   "cell_type": "code",
   "execution_count": 22,
   "id": "3fc5a487",
   "metadata": {},
   "outputs": [],
   "source": [
    "# Fill NaN with the mean value of the column in the columns: height, weight.\n",
    "list_of_columns_to_fill = [\"height\", \"weight\"]\n",
    "df = fillNA(df, list_of_columns_to_fill)"
   ]
  },
  {
   "cell_type": "code",
   "execution_count": 23,
   "id": "3ad0c2b0",
   "metadata": {},
   "outputs": [],
   "source": [
    "# Generate dummies for ethnicity column (One hot encoding).\n",
    "list_of_columns_OneHotEncoding = [\"ethnicity\"]\n",
    "df = OneHotEncoding(df, list_of_columns_OneHotEncoding)"
   ]
  },
  {
   "cell_type": "code",
   "execution_count": 24,
   "id": "649524bd",
   "metadata": {},
   "outputs": [],
   "source": [
    "# Create a binary variable for gender M/F.\n",
    "column = \"gender\"\n",
    "labels = [\"M\", \"F\"]\n",
    "df = binary_var(df, column, labels)"
   ]
  },
  {
   "cell_type": "code",
   "execution_count": 25,
   "id": "cb06c5c5",
   "metadata": {},
   "outputs": [],
   "source": [
    "# Train a model (for instance LogisticRegression or RandomForestClassifier from sklearn) in the train data.\n",
    "X = df[features]\n",
    "Y = df[target]\n",
    "\n",
    "X_train, X_test, y_train, y_test = train_test_split(X, Y,\n",
    "                                                    random_state=SEED,\n",
    "                                                    train_size=.80)\n",
    "\n",
    "trained_model = return_trained_model_RandomForestClassifier(X_train, y_train,\n",
    "                                                            SEED)"
   ]
  },
  {
   "cell_type": "code",
   "execution_count": 26,
   "id": "1ff91ab2",
   "metadata": {},
   "outputs": [],
   "source": [
    "# Predict the targets for both the train and test sets and add the prediction as a new column\n",
    "df_train = fill_df_predictions(X_train, trained_model)\n",
    "df_test = fill_df_predictions(X_test, trained_model)"
   ]
  },
  {
   "cell_type": "code",
   "execution_count": 27,
   "id": "08f564cf",
   "metadata": {},
   "outputs": [
    {
     "name": "stdout",
     "output_type": "stream",
     "text": [
      "ROC AUC over train data: 0.7802293721341902\n",
      "ROC AUC over test data: 0.6785033916571573\n"
     ]
    }
   ],
   "source": [
    "# Compute the train and test roc_auc metric using roc_auc_score from sklearn.\n",
    "roc_auc_train = calc_auc_score(y_train, df_train[\"predictions\"])\n",
    "roc_auc_test = calc_auc_score(y_test, df_test[\"predictions\"])\n",
    "print(\"ROC AUC over train data: {}\".format(roc_auc_train))\n",
    "print(\"ROC AUC over test data: {}\".format(roc_auc_test))"
   ]
  }
 ],
 "metadata": {
  "kernelspec": {
   "display_name": "Python 3.9.12 ('base')",
   "language": "python",
   "name": "python3"
  },
  "language_info": {
   "codemirror_mode": {
    "name": "ipython",
    "version": 3
   },
   "file_extension": ".py",
   "mimetype": "text/x-python",
   "name": "python",
   "nbconvert_exporter": "python",
   "pygments_lexer": "ipython3",
   "version": "3.9.12"
  },
  "vscode": {
   "interpreter": {
    "hash": "ef9976fb54af8ee8df79066cc870653b1489938a47ac38ebc1c5562e362a13ad"
   }
  }
 },
 "nbformat": 4,
 "nbformat_minor": 5
}
